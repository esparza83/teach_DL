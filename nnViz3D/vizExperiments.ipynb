{
 "cells": [
  {
   "cell_type": "code",
   "execution_count": 32,
   "metadata": {
    "collapsed": true
   },
   "outputs": [],
   "source": [
    "import nnViz3D\n",
    "import importlib"
   ]
  },
  {
   "cell_type": "code",
   "execution_count": 33,
   "metadata": {},
   "outputs": [
    {
     "data": {
      "text/plain": [
       "<module 'nnViz3D' from 'c:\\\\Dropbox\\\\NVIDIA\\\\DLI\\\\teach_DL\\\\nnViz3D\\\\nnViz3D.py'>"
      ]
     },
     "execution_count": 33,
     "metadata": {},
     "output_type": "execute_result"
    }
   ],
   "source": [
    "importlib.reload(nnViz3D)"
   ]
  },
  {
   "cell_type": "code",
   "execution_count": 34,
   "metadata": {},
   "outputs": [
    {
     "data": {
      "text/plain": [
       "<module 'k3d' from 'C:\\\\ProgramData\\\\Anaconda3\\\\envs\\\\tfGPU\\\\lib\\\\site-packages\\\\k3d\\\\__init__.py'>"
      ]
     },
     "execution_count": 34,
     "metadata": {},
     "output_type": "execute_result"
    }
   ],
   "source": [
    "import k3d\n",
    "importlib.reload(k3d)"
   ]
  },
  {
   "cell_type": "code",
   "execution_count": 35,
   "metadata": {
    "scrolled": false
   },
   "outputs": [
    {
     "name": "stdout",
     "output_type": "stream",
     "text": [
      "    input dimensions: 1\n",
      ":: plotting input at timestep \n",
      ":: plotting architecture at timestep \n",
      "-- timestep: 1 of 10\n",
      "    input dimensions: 1\n",
      ":: plotting input at timestep \n",
      ":: plotting architecture at timestep \n",
      "-- timestep: 2 of 10\n",
      "    input dimensions: 1\n",
      ":: plotting input at timestep \n",
      ":: plotting architecture at timestep \n"
     ]
    },
    {
     "data": {
      "application/vnd.jupyter.widget-view+json": {
       "model_id": "3cd8bef351184b10a06a24ff457b4ddb"
      }
     },
     "metadata": {},
     "output_type": "display_data"
    }
   ],
   "source": [
    "a = nnViz3D.NNViz3D()"
   ]
  },
  {
   "cell_type": "code",
   "execution_count": null,
   "metadata": {
    "collapsed": true
   },
   "outputs": [],
   "source": []
  }
 ],
 "metadata": {
  "kernelspec": {
   "display_name": "Python 3",
   "language": "python",
   "name": "python3"
  },
  "language_info": {
   "codemirror_mode": {
    "name": "ipython",
    "version": 3
   },
   "file_extension": ".py",
   "mimetype": "text/x-python",
   "name": "python",
   "nbconvert_exporter": "python",
   "pygments_lexer": "ipython3",
   "version": "3.5.3"
  }
 },
 "nbformat": 4,
 "nbformat_minor": 2
}
