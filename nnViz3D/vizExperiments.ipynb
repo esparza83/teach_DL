{
 "cells": [
  {
   "cell_type": "code",
   "execution_count": 25,
   "metadata": {
    "collapsed": true
   },
   "outputs": [],
   "source": [
    "import nnViz3D\n",
    "import importlib"
   ]
  },
  {
   "cell_type": "code",
   "execution_count": 26,
   "metadata": {},
   "outputs": [
    {
     "data": {
      "text/plain": [
       "<module 'nnViz3D' from 'C:\\\\Dropbox\\\\NVIDIA\\\\DLI\\\\teach_DL\\\\nnViz3D\\\\nnViz3D.py'>"
      ]
     },
     "execution_count": 26,
     "metadata": {},
     "output_type": "execute_result"
    }
   ],
   "source": [
    "importlib.reload(nnViz3D)"
   ]
  },
  {
   "cell_type": "code",
   "execution_count": 27,
   "metadata": {},
   "outputs": [
    {
     "data": {
      "text/plain": [
       "<module 'k3d' from 'C:\\\\ProgramData\\\\Anaconda3\\\\envs\\\\tfGPU\\\\lib\\\\site-packages\\\\k3d\\\\__init__.py'>"
      ]
     },
     "execution_count": 27,
     "metadata": {},
     "output_type": "execute_result"
    }
   ],
   "source": [
    "import k3d\n",
    "importlib.reload(k3d)"
   ]
  },
  {
   "cell_type": "code",
   "execution_count": 28,
   "metadata": {
    "scrolled": false
   },
   "outputs": [
    {
     "name": "stdout",
     "output_type": "stream",
     "text": [
      "    input dimensions: 1\n",
      ":: plotting input at timestep \n",
      ":: plotting architecture at timestep \n",
      "-- timestep: 1 of 10\n",
      "    input dimensions: 1\n",
      ":: plotting input at timestep \n",
      ":: plotting architecture at timestep \n",
      "-- timestep: 2 of 10\n",
      "    input dimensions: 1\n",
      ":: plotting input at timestep \n",
      ":: plotting architecture at timestep \n",
      "-- timestep: 3 of 10\n",
      "    input dimensions: 1\n",
      ":: plotting input at timestep \n",
      ":: plotting architecture at timestep \n",
      "-- timestep: 4 of 10\n",
      "    input dimensions: 1\n",
      ":: plotting input at timestep \n",
      ":: plotting architecture at timestep \n",
      "-- timestep: 5 of 10\n",
      "    input dimensions: 1\n",
      ":: plotting input at timestep \n",
      ":: plotting architecture at timestep \n",
      "-- timestep: 6 of 10\n",
      "    input dimensions: 1\n",
      ":: plotting input at timestep \n",
      ":: plotting architecture at timestep \n"
     ]
    },
    {
     "data": {
      "application/vnd.jupyter.widget-view+json": {
       "model_id": "6fda1cd54d344a5a97de976cc8c493a0"
      }
     },
     "metadata": {},
     "output_type": "display_data"
    }
   ],
   "source": [
    "a = nnViz3D.NNViz3D()"
   ]
  },
  {
   "cell_type": "code",
   "execution_count": null,
   "metadata": {
    "collapsed": true
   },
   "outputs": [],
   "source": []
  }
 ],
 "metadata": {
  "kernelspec": {
   "display_name": "Python 3",
   "language": "python",
   "name": "python3"
  },
  "language_info": {
   "codemirror_mode": {
    "name": "ipython",
    "version": 3
   },
   "file_extension": ".py",
   "mimetype": "text/x-python",
   "name": "python",
   "nbconvert_exporter": "python",
   "pygments_lexer": "ipython3",
   "version": "3.5.3"
  }
 },
 "nbformat": 4,
 "nbformat_minor": 2
}
