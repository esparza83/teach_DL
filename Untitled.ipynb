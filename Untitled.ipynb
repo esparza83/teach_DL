{
 "cells": [
  {
   "cell_type": "code",
   "execution_count": null,
   "metadata": {
    "collapsed": true
   },
   "outputs": [],
   "source": [
    "# keras todo -- try extracting gradients using K.gradients \n",
    "\n",
    "# pytorch todo -- wrap variables in tensors and .grad (at timestep?)\n",
    "\n",
    "# mxnet todo ??"
   ]
  },
  {
   "cell_type": "code",
   "execution_count": 6,
   "metadata": {
    "collapsed": true
   },
   "outputs": [],
   "source": [
    "import numpy as np\n",
    "import matplotlib.pylab as plt\n",
    "from mpl_toolkits.mplot3d import Axes3D"
   ]
  },
  {
   "cell_type": "code",
   "execution_count": 7,
   "metadata": {
    "collapsed": true
   },
   "outputs": [],
   "source": [
    "%matplotlib notebook"
   ]
  },
  {
   "cell_type": "code",
   "execution_count": 8,
   "metadata": {
    "collapsed": true
   },
   "outputs": [],
   "source": [
    "from k3d import K3D\n",
    "\n"
   ]
  },
  {
   "cell_type": "code",
   "execution_count": 9,
   "metadata": {
    "collapsed": true
   },
   "outputs": [],
   "source": [
    "?K3D.points"
   ]
  },
  {
   "cell_type": "code",
   "execution_count": null,
   "metadata": {
    "collapsed": true
   },
   "outputs": [],
   "source": [
    "# neural sheet \n",
    "\n",
    "given keras model\n",
    "given model as [ # neurons per layer ]\n",
    "prog determine rnn/lstm layers? OR one hot encoding per layer flag\n",
    "\n",
    "    \n",
    "    gradients\n",
    "    \n",
    "# initialize state to 0\n",
    "\n",
    "for t1:tN\n",
    "    @ t(i) offsets\n",
    "        plot network\n",
    "        layer 1 [ input ]\n",
    "        layer 2 [ layer1 + layer2[tPrev] ]\n",
    "        layer 3 [ layer2 ] \n",
    "    \n",
    "        compare to target -- accumulate loss\n",
    "    \n",
    "    \n",
    "    \n",
    "    @ t(i+1) offsets\n",
    "        plot network\n",
    "        layer 1 \n",
    "        layer 2\n",
    "        layer 3\n",
    "\n",
    "        \n",
    "    @t(i+S) offsets\n",
    "\n",
    "total loss"
   ]
  },
  {
   "cell_type": "code",
   "execution_count": 1,
   "metadata": {},
   "outputs": [
    {
     "ename": "NameError",
     "evalue": "name 'K3D' is not defined",
     "output_type": "error",
     "traceback": [
      "\u001b[1;31m---------------------------------------------------------------------------\u001b[0m",
      "\u001b[1;31mNameError\u001b[0m                                 Traceback (most recent call last)",
      "\u001b[1;32m<ipython-input-1-71058b46503a>\u001b[0m in \u001b[0;36m<module>\u001b[1;34m()\u001b[0m\n\u001b[1;32m----> 1\u001b[1;33m \u001b[0mplot\u001b[0m \u001b[1;33m=\u001b[0m \u001b[0mK3D\u001b[0m\u001b[1;33m(\u001b[0m\u001b[1;33m)\u001b[0m\u001b[1;33m\u001b[0m\u001b[0m\n\u001b[0m\u001b[0;32m      2\u001b[0m \u001b[0mneuronPositions\u001b[0m \u001b[1;33m=\u001b[0m \u001b[1;33m{\u001b[0m\u001b[1;33m}\u001b[0m\u001b[1;33m\u001b[0m\u001b[0m\n\u001b[0;32m      3\u001b[0m \u001b[1;33m\u001b[0m\u001b[0m\n\u001b[0;32m      4\u001b[0m neuronPositions = { 't1': np.array([ [0,0,0], [0,0,1], [0,0,2] ]), \n\u001b[0;32m      5\u001b[0m                     \u001b[1;34m't2'\u001b[0m\u001b[1;33m:\u001b[0m \u001b[0mnp\u001b[0m\u001b[1;33m.\u001b[0m\u001b[0marray\u001b[0m\u001b[1;33m(\u001b[0m\u001b[1;33m[\u001b[0m \u001b[1;33m[\u001b[0m\u001b[1;36m1\u001b[0m\u001b[1;33m,\u001b[0m\u001b[1;36m0\u001b[0m\u001b[1;33m,\u001b[0m\u001b[1;36m0\u001b[0m\u001b[1;33m]\u001b[0m\u001b[1;33m,\u001b[0m \u001b[1;33m[\u001b[0m\u001b[1;36m1\u001b[0m\u001b[1;33m,\u001b[0m\u001b[1;36m0\u001b[0m\u001b[1;33m,\u001b[0m\u001b[1;36m1\u001b[0m\u001b[1;33m]\u001b[0m\u001b[1;33m,\u001b[0m \u001b[1;33m[\u001b[0m\u001b[1;36m1\u001b[0m\u001b[1;33m,\u001b[0m\u001b[1;36m0\u001b[0m\u001b[1;33m,\u001b[0m\u001b[1;36m2\u001b[0m\u001b[1;33m]\u001b[0m \u001b[1;33m]\u001b[0m\u001b[1;33m)\u001b[0m\u001b[1;33m,\u001b[0m\u001b[1;33m\u001b[0m\u001b[0m\n",
      "\u001b[1;31mNameError\u001b[0m: name 'K3D' is not defined"
     ]
    }
   ],
   "source": [
    "plot = K3D()\n",
    "neuronPositions = {}\n",
    "\n",
    "neuronPositions = { 't1': np.array([ [0,0,0], [0,0,1], [0,0,2] ]), \n",
    "                    't2': np.array([ [1,0,0], [1,0,1], [1,0,2] ]), \n",
    "                  }\n",
    "\n",
    "# params\n",
    "#neuron \n",
    "\n",
    "plot.camera_auto_fit = False\n",
    "# plot neurons\n",
    "plot += K3D.points( positions = neuronPositions['t1'], color=0xFF0000, point_size = 1, shader = 'mesh')\n",
    "plot += K3D.points( positions = neuronPositions['t2'], color=0xFFFF00, point_size = 1, shader = 'flat')\n",
    "\n",
    "# plot weights\n",
    "plot += K3D.vectors(vectors = np.array([1,0,1]), origins=np.array([0,0,1]), origin_color=0xFF0000, head_color=0x0000FF)\n",
    "\n",
    "# plot activations\n",
    "\n",
    "# plot ...\n",
    "\n",
    "\n",
    "\n",
    "plot.display()\n",
    "\n"
   ]
  },
  {
   "cell_type": "code",
   "execution_count": null,
   "metadata": {
    "collapsed": true
   },
   "outputs": [],
   "source": []
  },
  {
   "cell_type": "code",
   "execution_count": null,
   "metadata": {
    "collapsed": true
   },
   "outputs": [],
   "source": []
  }
 ],
 "metadata": {
  "kernelspec": {
   "display_name": "Python 3",
   "language": "python",
   "name": "python3"
  },
  "language_info": {
   "codemirror_mode": {
    "name": "ipython",
    "version": 3
   },
   "file_extension": ".py",
   "mimetype": "text/x-python",
   "name": "python",
   "nbconvert_exporter": "python",
   "pygments_lexer": "ipython3",
   "version": "3.6.1"
  }
 },
 "nbformat": 4,
 "nbformat_minor": 2
}
